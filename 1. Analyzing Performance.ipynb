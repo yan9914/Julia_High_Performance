{
 "cells": [
  {
   "cell_type": "code",
   "execution_count": null,
   "metadata": {},
   "outputs": [],
   "source": [
    "## 時間測量"
   ]
  },
  {
   "cell_type": "code",
   "execution_count": 6,
   "metadata": {},
   "outputs": [
    {
     "name": "stdout",
     "output_type": "stream",
     "text": [
      "  0.000023 seconds (8 allocations: 16.063 KiB)\n"
     ]
    }
   ],
   "source": [
    "@time sqrt.(rand(1000));"
   ]
  },
  {
   "cell_type": "code",
   "execution_count": 7,
   "metadata": {},
   "outputs": [
    {
     "name": "stdout",
     "output_type": "stream",
     "text": [
      "  0.043068 seconds (2.00 k allocations: 15.503 MiB, 30.10% gc time)\n"
     ]
    }
   ],
   "source": [
    "@time for i in 1:1000\n",
    "    x = sin.(rand(1000))\n",
    "end"
   ]
  },
  {
   "cell_type": "code",
   "execution_count": 8,
   "metadata": {},
   "outputs": [
    {
     "name": "stdout",
     "output_type": "stream",
     "text": [
      "  0.000032 seconds (8 allocations: 16.063 KiB)\n",
      "elapsed time (ns): 31600\n",
      "bytes allocated:   16448\n",
      "pool allocs:       6\n",
      "non-pool GC allocs:2\n"
     ]
    }
   ],
   "source": [
    "# @time的強化版\n",
    "@timev sqrt.(rand(1000));"
   ]
  },
  {
   "cell_type": "code",
   "execution_count": 11,
   "metadata": {},
   "outputs": [
    {
     "name": "stdout",
     "output_type": "stream",
     "text": [
      "  0.000021 seconds (8 allocations: 16.063 KiB)\n"
     ]
    },
    {
     "data": {
      "text/plain": [
       "661.9034185136165"
      ]
     },
     "execution_count": 11,
     "metadata": {},
     "output_type": "execute_result"
    }
   ],
   "source": [
    "# 可以針對任意部分的程式碼使用\n",
    "sum(@time sqrt.(rand(1000)))"
   ]
  },
  {
   "cell_type": "code",
   "execution_count": 15,
   "metadata": {},
   "outputs": [
    {
     "data": {
      "text/plain": [
       "3.52e-5"
      ]
     },
     "execution_count": 15,
     "metadata": {},
     "output_type": "execute_result"
    }
   ],
   "source": [
    "# @elapsed也可以\"回傳\"運行時間 (以秒為單位)\n",
    "@elapsed sqrt.(rand(1000))"
   ]
  },
  {
   "cell_type": "code",
   "execution_count": 18,
   "metadata": {},
   "outputs": [
    {
     "data": {
      "text/plain": [
       "\u001b[32m\u001b[1mTest Passed\u001b[22m\u001b[39m"
      ]
     },
     "execution_count": 18,
     "metadata": {},
     "output_type": "execute_result"
    }
   ],
   "source": [
    "# 因為是回傳值, 所以可以拿來做運算\n",
    "using Test\n",
    "@test @elapsed(sqrt.(rand(1000))) <= 1e-4"
   ]
  },
  {
   "cell_type": "code",
   "execution_count": 13,
   "metadata": {},
   "outputs": [
    {
     "name": "stdout",
     "output_type": "stream",
     "text": [
      "\u001b[32m\u001b[1m  Updating\u001b[22m\u001b[39m registry at `C:\\Users\\user\\.julia\\registries\\General`\n",
      "\u001b[32m\u001b[1m  Updating\u001b[22m\u001b[39m git-repo `https://github.com/JuliaRegistries/General.git`\n",
      "\u001b[2K\u001b[?25h[1mFetching:\u001b[22m\u001b[39m [========================================>]  100.0%0.0 %2.9 % [===>                                     ]  6.8 %0 % [=====>                                   ]  11.2 %======>                                  ]  12.7 %>                                 ]  15.3 %                                 ]  16.6 %9 %========>                                ]  19.2 %                               ]  20.4 % [=========>                               ]  21.5 %24.5 % [===========>                             ]  26.1 %]  27.1 % % [=============>                           ]  30.8 %                           ]  32.0 % [==============>                          ]  33.2 %===============>                         ]  37.3 %                        ]  39.0 %>                        ]  39.9 % [=================>                       ]  41.2 %42.0 % [==================>                      ]  43.0 % %>                      ]  44.2 %\u001b[36m\u001b[1mFetching:\u001b[22m\u001b[39m [====================>                    ]  47.6 %.9 %\u001b[36m\u001b[1mFetching:\u001b[22m\u001b[39m [========================>                ]  58.0 %              ]  64.3 % [===========================>             ]  67.4 %]  68.8 %71.6 % [==============================>          ]  73.6 %===============================>         ]  77.3 %================================>        ]  79.0 % [=================================>       ]  80.9 % %>      ]  83.1 % [==================================>      ]  84.7 % % [======================================>  ]  94.1 % [=======================================> ]  95.6 % [=======================================> ]  96.3 % %\u001b[32m\u001b[1m Resolving\u001b[22m\u001b[39m package versions...\n",
      "\u001b[32m\u001b[1m Installed\u001b[22m\u001b[39m UnPack ─────────────────────── v1.0.2\n",
      "\u001b[32m\u001b[1m Installed\u001b[22m\u001b[39m LibVPX_jll ─────────────────── v1.9.0+1\n",
      "\u001b[32m\u001b[1m Installed\u001b[22m\u001b[39m LineSearches ───────────────── v7.1.1\n",
      "\u001b[32m\u001b[1m Installed\u001b[22m\u001b[39m TimerOutputs ───────────────── v0.5.7\n",
      "\u001b[32m\u001b[1m Installed\u001b[22m\u001b[39m Compat ─────────────────────── v2.2.1\n",
      "\u001b[32m\u001b[1m Installed\u001b[22m\u001b[39m Roots ──────────────────────── v1.0.8\n",
      "\u001b[32m\u001b[1m Installed\u001b[22m\u001b[39m JuliaInterpreter ───────────── v0.7.26\n",
      "\u001b[32m\u001b[1m Installed\u001b[22m\u001b[39m ColorSchemes ───────────────── v3.10.2\n",
      "\u001b[32m\u001b[1m Installed\u001b[22m\u001b[39m LAME_jll ───────────────────── v3.100.0+3\n",
      "\u001b[32m\u001b[1m Installed\u001b[22m\u001b[39m Showoff ────────────────────── v0.3.2\n",
      "\u001b[32m\u001b[1m Installed\u001b[22m\u001b[39m Libmount_jll ───────────────── v2.34.0+3\n",
      "\u001b[32m\u001b[1m Installed\u001b[22m\u001b[39m OpenBLAS_jll ───────────────── v0.3.9+5\n",
      "\u001b[32m\u001b[1m Installed\u001b[22m\u001b[39m JLLWrappers ────────────────── v1.2.0\n",
      "\u001b[32m\u001b[1m Installed\u001b[22m\u001b[39m WebIO ──────────────────────── v0.8.15\n",
      "\u001b[32m\u001b[1m Installed\u001b[22m\u001b[39m libpng_jll ─────────────────── v1.6.37+6\n",
      "\u001b[32m\u001b[1m Installed\u001b[22m\u001b[39m Xorg_libXau_jll ────────────── v1.0.9+4\n",
      "\u001b[32m\u001b[1m Installed\u001b[22m\u001b[39m HarfBuzz_jll ───────────────── v2.6.1+10\n",
      "\u001b[32m\u001b[1m Installed\u001b[22m\u001b[39m DataAPI ────────────────────── v1.5.1\n",
      "\u001b[32m\u001b[1m Installed\u001b[22m\u001b[39m AbstractFFTs ───────────────── v1.0.0\n",
      "\u001b[32m\u001b[1m Installed\u001b[22m\u001b[39m ZipFile ────────────────────── v0.9.3\n",
      "\u001b[32m\u001b[1m Installed\u001b[22m\u001b[39m Graphite2_jll ──────────────── v1.3.13+4\n",
      "\u001b[32m\u001b[1m Installed\u001b[22m\u001b[39m ICU_jll ────────────────────── v67.1.0+3\n",
      "\u001b[32m\u001b[1m Installed\u001b[22m\u001b[39m MbedTLS_jll ────────────────── v2.16.8+1\n",
      "\u001b[32m\u001b[1m Installed\u001b[22m\u001b[39m OrderedCollections ─────────── v1.3.3\n",
      "\u001b[32m\u001b[1m Installed\u001b[22m\u001b[39m IntelOpenMP_jll ────────────── v2018.0.3+2\n",
      "\u001b[32m\u001b[1m Installed\u001b[22m\u001b[39m FriBidi_jll ────────────────── v1.0.5+6\n",
      "\u001b[32m\u001b[1m Installed\u001b[22m\u001b[39m CompilerSupportLibraries_jll ─ v0.3.4+0\n",
      "\u001b[32m\u001b[1m Installed\u001b[22m\u001b[39m LazyArtifacts ──────────────── v1.3.0\n",
      "\u001b[32m\u001b[1m Installed\u001b[22m\u001b[39m Bzip2_jll ──────────────────── v1.0.6+5\n",
      "\u001b[32m\u001b[1m Installed\u001b[22m\u001b[39m Expat_jll ──────────────────── v2.2.7+6\n",
      "\u001b[32m\u001b[1m Installed\u001b[22m\u001b[39m Conda ──────────────────────── v1.5.0\n",
      "\u001b[32m\u001b[1m Installed\u001b[22m\u001b[39m StaticArrays ───────────────── v0.12.5\n",
      "\u001b[32m\u001b[1m Installed\u001b[22m\u001b[39m Loess ──────────────────────── v0.5.3\n",
      "\u001b[32m\u001b[1m Installed\u001b[22m\u001b[39m ColorTypes ─────────────────── v0.10.9\n",
      "\u001b[32m\u001b[1m Installed\u001b[22m\u001b[39m Xorg_libxcb_jll ────────────── v1.13.0+3\n",
      "\u001b[32m\u001b[1m Installed\u001b[22m\u001b[39m JSONSchema ─────────────────── v0.3.3\n",
      "\u001b[32m\u001b[1m Installed\u001b[22m\u001b[39m libass_jll ─────────────────── v0.14.0+4\n",
      "\u001b[32m\u001b[1m Installed\u001b[22m\u001b[39m PositiveFactorizations ─────── v0.2.4\n",
      "\u001b[32m\u001b[1m Installed\u001b[22m\u001b[39m Xorg_libXdmcp_jll ──────────── v1.1.3+4\n",
      "\u001b[32m\u001b[1m Installed\u001b[22m\u001b[39m RecipesPipeline ────────────── v0.1.13\n",
      "\u001b[32m\u001b[1m Installed\u001b[22m\u001b[39m ArrayInterface ─────────────── v2.14.17\n",
      "\u001b[32m\u001b[1m Installed\u001b[22m\u001b[39m Xorg_libX11_jll ────────────── v1.6.9+4\n",
      "\u001b[32m\u001b[1m Installed\u001b[22m\u001b[39m FixedPointNumbers ──────────── v0.8.4\n",
      "\u001b[32m\u001b[1m Installed\u001b[22m\u001b[39m Pango_jll ──────────────────── v1.42.4+10\n",
      "\u001b[32m\u001b[1m Installed\u001b[22m\u001b[39m Libgpg_error_jll ───────────── v1.36.0+3\n",
      "\u001b[32m\u001b[1m Installed\u001b[22m\u001b[39m Missings ───────────────────── v0.4.5\n",
      "\u001b[32m\u001b[1m Installed\u001b[22m\u001b[39m DataStructures ─────────────── v0.17.20\n",
      "\u001b[32m\u001b[1m Installed\u001b[22m\u001b[39m DocStringExtensions ────────── v0.8.3\n",
      "\u001b[32m\u001b[1m Installed\u001b[22m\u001b[39m WoodburyMatrices ───────────── v0.5.3\n",
      "\u001b[32m\u001b[1m Installed\u001b[22m\u001b[39m Lazy ───────────────────────── v0.15.1\n",
      "\u001b[32m\u001b[1m Installed\u001b[22m\u001b[39m OffsetArrays ───────────────── v1.5.3\n",
      "\u001b[32m\u001b[1m Installed\u001b[22m\u001b[39m MutableArithmetics ─────────── v0.2.14\n",
      "\u001b[32m\u001b[1m Installed\u001b[22m\u001b[39m FFMPEG_jll ─────────────────── v4.3.1+4\n",
      "\u001b[32m\u001b[1m Installed\u001b[22m\u001b[39m PCRE_jll ───────────────────── v8.42.0+4\n",
      "\u001b[32m\u001b[1m Installed\u001b[22m\u001b[39m JSON ───────────────────────── v0.21.1\n",
      "\u001b[32m\u001b[1m Installed\u001b[22m\u001b[39m WebSockets ─────────────────── v1.5.9\n",
      "\u001b[32m\u001b[1m Installed\u001b[22m\u001b[39m Xorg_libXext_jll ───────────── v1.3.4+4\n",
      "\u001b[32m\u001b[1m Installed\u001b[22m\u001b[39m FreeType2_jll ──────────────── v2.10.1+5\n",
      "\u001b[32m\u001b[1m Installed\u001b[22m\u001b[39m OpenSSL_jll ────────────────── v1.1.1+6\n",
      "\u001b[32m\u001b[1m Installed\u001b[22m\u001b[39m Libffi_jll ─────────────────── v3.2.1+4\n",
      "\u001b[32m\u001b[1m Installed\u001b[22m\u001b[39m CommonSubexpressions ───────── v0.3.0\n",
      "\u001b[32m\u001b[1m Installed\u001b[22m\u001b[39m Graphics ───────────────────── v1.1.0\n",
      "\u001b[32m\u001b[1m Installed\u001b[22m\u001b[39m RecipesBase ────────────────── v1.1.1\n",
      "\u001b[32m\u001b[1m Installed\u001b[22m\u001b[39m MacroTools ─────────────────── v0.5.6\n",
      "\u001b[32m\u001b[1m Installed\u001b[22m\u001b[39m Distances ──────────────────── v0.9.2\n",
      "\u001b[32m\u001b[1m Installed\u001b[22m\u001b[39m Grisu ──────────────────────── v1.0.0\n",
      "\u001b[32m\u001b[1m Installed\u001b[22m\u001b[39m libsodium_jll ──────────────── v1.0.18+1\n",
      "\u001b[32m\u001b[1m Installed\u001b[22m\u001b[39m x264_jll ───────────────────── v2020.7.14+2\n",
      "\u001b[32m\u001b[1m Installed\u001b[22m\u001b[39m LZO_jll ────────────────────── v2.10.0+3\n",
      "\u001b[32m\u001b[1m Installed\u001b[22m\u001b[39m Contour ────────────────────── v0.5.7\n",
      "\u001b[32m\u001b[1m Installed\u001b[22m\u001b[39m DiffRules ──────────────────── v1.0.2\n",
      "\u001b[32m\u001b[1m Installed\u001b[22m\u001b[39m Parameters ─────────────────── v0.12.2\n",
      "\u001b[32m\u001b[1m Installed\u001b[22m\u001b[39m PlotUtils ──────────────────── v1.0.10\n",
      "\u001b[32m\u001b[1m Installed\u001b[22m\u001b[39m Parsers ────────────────────── v1.0.15\n",
      "\u001b[32m\u001b[1m Installed\u001b[22m\u001b[39m HTTP ───────────────────────── v0.8.19\n",
      "\u001b[32m\u001b[1m Installed\u001b[22m\u001b[39m Xorg_libXrender_jll ────────── v0.9.10+4\n",
      "\u001b[32m\u001b[1m Installed\u001b[22m\u001b[39m GeometryTypes ──────────────── v0.8.4\n",
      "\u001b[32m\u001b[1m Installed\u001b[22m\u001b[39m ForwardDiff ────────────────── v0.10.16\n",
      "\u001b[32m\u001b[1m Installed\u001b[22m\u001b[39m OpenSpecFun_jll ────────────── v0.5.3+4\n",
      "\u001b[32m\u001b[1m Installed\u001b[22m\u001b[39m CodeTracking ───────────────── v0.5.12\n",
      "\u001b[32m\u001b[1m Installed\u001b[22m\u001b[39m Mustache ───────────────────── v1.0.10\n",
      "\u001b[32m\u001b[1m Installed\u001b[22m\u001b[39m Colors ─────────────────────── v0.12.6\n",
      "\u001b[32m\u001b[1m Installed\u001b[22m\u001b[39m FileIO ─────────────────────── v1.4.5\n",
      "\u001b[32m\u001b[1m Installed\u001b[22m\u001b[39m XSLT_jll ───────────────────── v1.1.33+4\n",
      "\u001b[32m\u001b[1m Installed\u001b[22m\u001b[39m Artifacts ──────────────────── v1.3.0\n",
      "\u001b[32m\u001b[1m Installed\u001b[22m\u001b[39m libfdk_aac_jll ─────────────── v0.1.6+4\n",
      "\u001b[32m\u001b[1m Installed\u001b[22m\u001b[39m NaNMath ────────────────────── v0.3.5\n",
      "\u001b[32m\u001b[1m Installed\u001b[22m\u001b[39m XML2_jll ───────────────────── v2.9.10+3\n",
      "\u001b[32m\u001b[1m Installed\u001b[22m\u001b[39m Pidfile ────────────────────── v1.2.0\n",
      "\u001b[32m\u001b[1m Installed\u001b[22m\u001b[39m Cairo_jll ──────────────────── v1.16.0+6\n",
      "\u001b[32m\u001b[1m Installed\u001b[22m\u001b[39m ZeroMQ_jll ─────────────────── v4.3.2+6\n",
      "\u001b[32m\u001b[1m Installed\u001b[22m\u001b[39m Libgcrypt_jll ──────────────── v1.8.5+4\n"
     ]
    },
    {
     "name": "stdout",
     "output_type": "stream",
     "text": [
      "\u001b[32m\u001b[1m Installed\u001b[22m\u001b[39m StringDistances ────────────── v0.8.0\n",
      "\u001b[32m\u001b[1m Installed\u001b[22m\u001b[39m Observables ────────────────── v0.3.3\n",
      "\u001b[32m\u001b[1m Installed\u001b[22m\u001b[39m MbedTLS ────────────────────── v1.0.3\n",
      "\u001b[32m\u001b[1m Installed\u001b[22m\u001b[39m x265_jll ───────────────────── v3.0.0+3\n",
      "\u001b[32m\u001b[1m Installed\u001b[22m\u001b[39m Pixman_jll ─────────────────── v0.40.0+0\n",
      "\u001b[32m\u001b[1m Installed\u001b[22m\u001b[39m PlotThemes ─────────────────── v2.0.1\n",
      "\u001b[32m\u001b[1m Installed\u001b[22m\u001b[39m Requires ───────────────────── v1.1.2\n",
      "\u001b[32m\u001b[1m Installed\u001b[22m\u001b[39m Xorg_xtrans_jll ────────────── v1.4.0+3\n",
      "\u001b[32m\u001b[1m Installed\u001b[22m\u001b[39m Adapt ──────────────────────── v3.2.0\n",
      "\u001b[32m\u001b[1m Installed\u001b[22m\u001b[39m Libiconv_jll ───────────────── v1.16.0+7\n",
      "\u001b[32m\u001b[1m Installed\u001b[22m\u001b[39m Zlib_jll ───────────────────── v1.2.11+18\n",
      "\u001b[32m\u001b[1m Installed\u001b[22m\u001b[39m CodeTools ──────────────────── v0.7.1\n",
      "\u001b[32m\u001b[1m Installed\u001b[22m\u001b[39m Tokenize ───────────────────── v0.5.13\n",
      "\u001b[32m\u001b[1m Installed\u001b[22m\u001b[39m Tables ─────────────────────── v1.3.2\n",
      "\u001b[32m\u001b[1m Installed\u001b[22m\u001b[39m MathOptInterface ───────────── v0.9.19\n",
      "\u001b[32m\u001b[1m Installed\u001b[22m\u001b[39m Opus_jll ───────────────────── v1.3.1+3\n",
      "\u001b[32m\u001b[1m Installed\u001b[22m\u001b[39m QuadGK ─────────────────────── v2.4.1\n",
      "\u001b[32m\u001b[1m Installed\u001b[22m\u001b[39m Xorg_libpthread_stubs_jll ──── v0.1.0+3\n",
      "\u001b[32m\u001b[1m Installed\u001b[22m\u001b[39m FFTW_jll ───────────────────── v3.3.9+7\n",
      "\u001b[32m\u001b[1m Installed\u001b[22m\u001b[39m Fontconfig_jll ─────────────── v2.13.1+14\n",
      "\u001b[32m\u001b[1m Installed\u001b[22m\u001b[39m FillArrays ─────────────────── v0.8.14\n",
      "\u001b[32m\u001b[1m Installed\u001b[22m\u001b[39m Gettext_jll ────────────────── v0.20.1+7\n",
      "\u001b[32m\u001b[1m Installed\u001b[22m\u001b[39m CSTParser ──────────────────── v2.5.0\n",
      "\u001b[32m\u001b[1m Installed\u001b[22m\u001b[39m Libuuid_jll ────────────────── v2.34.0+7\n",
      "\u001b[32m\u001b[1m Installed\u001b[22m\u001b[39m GMP_jll ────────────────────── v6.1.2+6\n",
      "\u001b[32m\u001b[1m Installed\u001b[22m\u001b[39m SoftGlobalScope ────────────── v1.1.0\n",
      "\u001b[32m\u001b[1m Installed\u001b[22m\u001b[39m MKL_jll ────────────────────── v2021.1.1+1\n",
      "\u001b[32m\u001b[1m Installed\u001b[22m\u001b[39m DiffResults ────────────────── v1.0.3\n",
      "\u001b[32m\u001b[1m Installed\u001b[22m\u001b[39m FFTW ───────────────────────── v1.3.2\n",
      "\u001b[32m\u001b[1m Installed\u001b[22m\u001b[39m Glib_jll ───────────────────── v2.59.0+4\n",
      "\u001b[32m\u001b[1m Installed\u001b[22m\u001b[39m FlameGraphs ────────────────── v0.2.5\n",
      "\u001b[32m\u001b[1m Installed\u001b[22m\u001b[39m Ogg_jll ────────────────────── v1.3.4+2\n",
      "\u001b[32m\u001b[1m Installed\u001b[22m\u001b[39m libvorbis_jll ──────────────── v1.3.6+6\n",
      "\u001b[32m\u001b[1m Installed\u001b[22m\u001b[39m DocSeeker ──────────────────── v0.4.2\n",
      "\u001b[32m\u001b[1m Installed\u001b[22m\u001b[39m YAML ───────────────────────── v0.4.6\n",
      "\u001b[32m\u001b[1m  Updating\u001b[22m\u001b[39m `C:\\Users\\user\\.julia\\environments\\v1.3\\Project.toml`\n",
      " \u001b[90m [a759f4b9]\u001b[39m\u001b[92m + TimerOutputs v0.5.7\u001b[39m\n",
      "\u001b[32m\u001b[1m  Updating\u001b[22m\u001b[39m `C:\\Users\\user\\.julia\\environments\\v1.3\\Manifest.toml`\n",
      " \u001b[90m [621f4979]\u001b[39m\u001b[93m ↑ AbstractFFTs v0.5.0 ⇒ v1.0.0\u001b[39m\n",
      " \u001b[90m [79e6a3ab]\u001b[39m\u001b[92m + Adapt v3.2.0\u001b[39m\n",
      " \u001b[90m [4fba245c]\u001b[39m\u001b[93m ↑ ArrayInterface v2.9.0 ⇒ v2.14.17\u001b[39m\n",
      " \u001b[90m [56f22d72]\u001b[39m\u001b[92m + Artifacts v1.3.0\u001b[39m\n",
      " \u001b[90m [6e34b625]\u001b[39m\u001b[93m ↑ Bzip2_jll v1.0.6+2 ⇒ v1.0.6+5\u001b[39m\n",
      " \u001b[90m [00ebfdb7]\u001b[39m\u001b[93m ↑ CSTParser v2.4.0 ⇒ v2.5.0\u001b[39m\n",
      " \u001b[90m [83423d85]\u001b[39m\u001b[93m ↑ Cairo_jll v1.16.0+4 ⇒ v1.16.0+6\u001b[39m\n",
      " \u001b[90m [53a63b46]\u001b[39m\u001b[93m ↑ CodeTools v0.7.0 ⇒ v0.7.1\u001b[39m\n",
      " \u001b[90m [da1fd8a2]\u001b[39m\u001b[93m ↑ CodeTracking v0.5.11 ⇒ v0.5.12\u001b[39m\n",
      " \u001b[90m [35d6a980]\u001b[39m\u001b[93m ↑ ColorSchemes v3.9.0 ⇒ v3.10.2\u001b[39m\n",
      " \u001b[90m [3da002f7]\u001b[39m\u001b[93m ↑ ColorTypes v0.10.4 ⇒ v0.10.9\u001b[39m\n",
      " \u001b[90m [5ae59095]\u001b[39m\u001b[93m ↑ Colors v0.12.2 ⇒ v0.12.6\u001b[39m\n",
      " \u001b[90m [bbf7d656]\u001b[39m\u001b[93m ↑ CommonSubexpressions v0.2.0 ⇒ v0.3.0\u001b[39m\n",
      " \u001b[90m [34da2185]\u001b[39m\u001b[93m ↑ Compat v2.2.0 ⇒ v2.2.1\u001b[39m\n",
      " \u001b[90m [e66e0078]\u001b[39m\u001b[93m ↑ CompilerSupportLibraries_jll v0.3.3+0 ⇒ v0.3.4+0\u001b[39m\n",
      " \u001b[90m [8f4d0f93]\u001b[39m\u001b[93m ↑ Conda v1.4.1 ⇒ v1.5.0\u001b[39m\n",
      " \u001b[90m [d38c429a]\u001b[39m\u001b[93m ↑ Contour v0.5.3 ⇒ v0.5.7\u001b[39m\n",
      " \u001b[90m [9a962f9c]\u001b[39m\u001b[93m ↑ DataAPI v1.3.0 ⇒ v1.5.1\u001b[39m\n",
      " \u001b[90m [864edb3b]\u001b[39m\u001b[93m ↑ DataStructures v0.17.19 ⇒ v0.17.20\u001b[39m\n",
      " \u001b[90m [01453d9d]\u001b[39m\u001b[92m + DiffEqDiffTools v1.7.0\u001b[39m\n",
      " \u001b[90m [163ba53b]\u001b[39m\u001b[93m ↑ DiffResults v1.0.2 ⇒ v1.0.3\u001b[39m\n",
      " \u001b[90m [b552c78f]\u001b[39m\u001b[93m ↑ DiffRules v1.0.1 ⇒ v1.0.2\u001b[39m\n",
      " \u001b[90m [b4f34e82]\u001b[39m\u001b[93m ↑ Distances v0.9.0 ⇒ v0.9.2\u001b[39m\n",
      " \u001b[90m [33d173f1]\u001b[39m\u001b[93m ↑ DocSeeker v0.4.1 ⇒ v0.4.2\u001b[39m\n",
      " \u001b[90m [ffbed154]\u001b[39m\u001b[93m ↑ DocStringExtensions v0.8.2 ⇒ v0.8.3\u001b[39m\n",
      " \u001b[90m [2e619515]\u001b[39m\u001b[93m ↑ Expat_jll v2.2.7+3 ⇒ v2.2.7+6\u001b[39m\n",
      " \u001b[90m [b22a6f82]\u001b[39m\u001b[93m ↑ FFMPEG_jll v4.1.0+3 ⇒ v4.3.1+4\u001b[39m\n",
      " \u001b[90m [7a1cc6ca]\u001b[39m\u001b[93m ↑ FFTW v1.2.2 ⇒ v1.3.2\u001b[39m\n",
      " \u001b[90m [f5851436]\u001b[39m\u001b[93m ↑ FFTW_jll v3.3.9+5 ⇒ v3.3.9+7\u001b[39m\n",
      " \u001b[90m [5789e2e9]\u001b[39m\u001b[93m ↑ FileIO v1.3.0 ⇒ v1.4.5\u001b[39m\n",
      " \u001b[90m [1a297f60]\u001b[39m\u001b[93m ↑ FillArrays v0.8.11 ⇒ v0.8.14\u001b[39m\n",
      " \u001b[90m [6a86dc24]\u001b[39m\u001b[91m - FiniteDiff v2.3.2\u001b[39m\n",
      " \u001b[90m [53c48c17]\u001b[39m\u001b[93m ↑ FixedPointNumbers v0.8.1 ⇒ v0.8.4\u001b[39m\n",
      " \u001b[90m [08572546]\u001b[39m\u001b[93m ↑ FlameGraphs v0.2.3 ⇒ v0.2.5\u001b[39m\n",
      " \u001b[90m [a3f928ae]\u001b[39m\u001b[93m ↑ Fontconfig_jll v2.13.1+11 ⇒ v2.13.1+14\u001b[39m\n",
      " \u001b[90m [f6369f11]\u001b[39m\u001b[93m ↑ ForwardDiff v0.10.10 ⇒ v0.10.16\u001b[39m\n",
      " \u001b[90m [d7e528f0]\u001b[39m\u001b[93m ↑ FreeType2_jll v2.10.1+2 ⇒ v2.10.1+5\u001b[39m\n",
      " \u001b[90m [559328eb]\u001b[39m\u001b[93m ↑ FriBidi_jll v1.0.5+3 ⇒ v1.0.5+6\u001b[39m\n",
      " \u001b[90m [781609d7]\u001b[39m\u001b[93m ↑ GMP_jll v6.1.2+5 ⇒ v6.1.2+6\u001b[39m\n",
      " \u001b[90m [4d00f742]\u001b[39m\u001b[93m ↑ GeometryTypes v0.8.3 ⇒ v0.8.4\u001b[39m\n",
      " \u001b[90m [78b55507]\u001b[39m\u001b[93m ↑ Gettext_jll v0.20.1+4 ⇒ v0.20.1+7\u001b[39m\n",
      " \u001b[90m [7746bdde]\u001b[39m\u001b[93m ↑ Glib_jll v2.59.0+2 ⇒ v2.59.0+4\u001b[39m\n",
      " \u001b[90m [a2bd30eb]\u001b[39m\u001b[93m ↑ Graphics v1.0.2 ⇒ v1.1.0\u001b[39m\n",
      " \u001b[90m [3b182d85]\u001b[39m\u001b[93m ↑ Graphite2_jll v1.3.13+1 ⇒ v1.3.13+4\u001b[39m\n",
      " \u001b[90m [42e2da0e]\u001b[39m\u001b[92m + Grisu v1.0.0\u001b[39m\n",
      " \u001b[90m [cd3eb016]\u001b[39m\u001b[93m ↑ HTTP v0.8.15 ⇒ v0.8.19\u001b[39m\n",
      " \u001b[90m [2e76f6c2]\u001b[39m\u001b[93m ↑ HarfBuzz_jll v2.6.1+5 ⇒ v2.6.1+10\u001b[39m\n",
      " \u001b[90m [a51ab1cf]\u001b[39m\u001b[92m + ICU_jll v67.1.0+3\u001b[39m\n",
      " \u001b[90m [1d5cc7b8]\u001b[39m\u001b[93m ↑ IntelOpenMP_jll v2018.0.3+0 ⇒ v2018.0.3+2\u001b[39m\n",
      " \u001b[90m [692b3bcd]\u001b[39m\u001b[92m + JLLWrappers v1.2.0\u001b[39m\n",
      " \u001b[90m [682c06a0]\u001b[39m\u001b[93m ↑ JSON v0.21.0 ⇒ v0.21.1\u001b[39m\n",
      " \u001b[90m [7d188eb4]\u001b[39m\u001b[93m ↑ JSONSchema v0.3.0 ⇒ v0.3.3\u001b[39m\n",
      " \u001b[90m [aa1ae85d]\u001b[39m\u001b[93m ↑ JuliaInterpreter v0.7.23 ⇒ v0.7.26\u001b[39m\n",
      " \u001b[90m [c1c5ebd0]\u001b[39m\u001b[93m ↑ LAME_jll v3.100.0+1 ⇒ v3.100.0+3\u001b[39m\n",
      " \u001b[90m [dd4b983a]\u001b[39m\u001b[93m ↑ LZO_jll v2.10.0+1 ⇒ v2.10.0+3\u001b[39m\n",
      " \u001b[90m [50d2b5c4]\u001b[39m\u001b[93m ↑ Lazy v0.15.0 ⇒ v0.15.1\u001b[39m\n",
      " \u001b[90m [4af54fe1]\u001b[39m\u001b[92m + LazyArtifacts v1.3.0\u001b[39m\n",
      " \u001b[90m [dd192d2f]\u001b[39m\u001b[93m ↑ LibVPX_jll v1.8.1+1 ⇒ v1.9.0+1\u001b[39m\n",
      " \u001b[90m [e9f186c6]\u001b[39m\u001b[93m ↑ Libffi_jll v3.2.1+1 ⇒ v3.2.1+4\u001b[39m\n",
      " \u001b[90m [d4300ac3]\u001b[39m\u001b[93m ↑ Libgcrypt_jll v1.8.5+1 ⇒ v1.8.5+4\u001b[39m\n",
      " \u001b[90m [7add5ba3]\u001b[39m\u001b[93m ↑ Libgpg_error_jll v1.36.0+1 ⇒ v1.36.0+3\u001b[39m\n",
      " \u001b[90m [94ce4f54]\u001b[39m\u001b[93m ↑ Libiconv_jll v1.16.0+5 ⇒ v1.16.0+7\u001b[39m\n",
      " \u001b[90m [4b2f31a3]\u001b[39m\u001b[93m ↑ Libmount_jll v2.34.0+1 ⇒ v2.34.0+3\u001b[39m\n",
      " \u001b[90m [38a345b3]\u001b[39m\u001b[93m ↑ Libuuid_jll v2.34.0+4 ⇒ v2.34.0+7\u001b[39m\n",
      " \u001b[90m [d3d80556]\u001b[39m\u001b[93m ↑ LineSearches v7.0.1 ⇒ v7.1.1\u001b[39m\n",
      " \u001b[90m [4345ca2d]\u001b[39m\u001b[93m ↑ Loess v0.5.0 ⇒ v0.5.3\u001b[39m\n",
      " \u001b[90m [856f044c]\u001b[39m\u001b[93m ↑ MKL_jll v2020.1.216+0 ⇒ v2021.1.1+1\u001b[39m\n",
      " \u001b[90m [1914dd2f]\u001b[39m\u001b[93m ↑ MacroTools v0.5.5 ⇒ v0.5.6\u001b[39m\n",
      " \u001b[90m [b8f27783]\u001b[39m\u001b[93m ↑ MathOptInterface v0.9.14 ⇒ v0.9.19\u001b[39m\n",
      " \u001b[90m [739be429]\u001b[39m\u001b[93m ↑ MbedTLS v1.0.2 ⇒ v1.0.3\u001b[39m\n",
      " \u001b[90m [c8ffd9c3]\u001b[39m\u001b[93m ↑ MbedTLS_jll v2.16.6+0 ⇒ v2.16.8+1\u001b[39m\n",
      " \u001b[90m [e1d29d7a]\u001b[39m\u001b[93m ↑ Missings v0.4.3 ⇒ v0.4.5\u001b[39m\n",
      " \u001b[90m [ffc61752]\u001b[39m\u001b[93m ↑ Mustache v1.0.3 ⇒ v1.0.10\u001b[39m\n",
      " \u001b[90m [d8a4904e]\u001b[39m\u001b[93m ↑ MutableArithmetics v0.2.10 ⇒ v0.2.14\u001b[39m\n",
      " \u001b[90m [d41bc354]\u001b[39m\u001b[95m ↓ NLSolversBase v7.6.1 ⇒ v7.5.0\u001b[39m\n",
      " \u001b[90m [77ba4419]\u001b[39m\u001b[93m ↑ NaNMath v0.3.3 ⇒ v0.3.5\u001b[39m\n",
      " \u001b[90m [510215fc]\u001b[39m\u001b[93m ↑ Observables v0.3.1 ⇒ v0.3.3\u001b[39m\n",
      " \u001b[90m [6fe1bfb0]\u001b[39m\u001b[93m ↑ OffsetArrays v1.1.0 ⇒ v1.5.3\u001b[39m\n",
      " \u001b[90m [e7412a2a]\u001b[39m\u001b[93m ↑ Ogg_jll v1.3.4+0 ⇒ v1.3.4+2\u001b[39m\n",
      " \u001b[90m [4536629a]\u001b[39m\u001b[93m ↑ OpenBLAS_jll v0.3.9+4 ⇒ v0.3.9+5\u001b[39m\n",
      " \u001b[90m [458c3c95]\u001b[39m\u001b[93m ↑ OpenSSL_jll v1.1.1+4 ⇒ v1.1.1+6\u001b[39m\n",
      " \u001b[90m [efe28fd5]\u001b[39m\u001b[93m ↑ OpenSpecFun_jll v0.5.3+3 ⇒ v0.5.3+4\u001b[39m\n",
      " \u001b[90m [91d4177d]\u001b[39m\u001b[93m ↑ Opus_jll v1.3.1+1 ⇒ v1.3.1+3\u001b[39m\n",
      " \u001b[90m [bac558e1]\u001b[39m\u001b[93m ↑ OrderedCollections v1.2.0 ⇒ v1.3.3\u001b[39m\n",
      " \u001b[90m [2f80f16e]\u001b[39m\u001b[93m ↑ PCRE_jll v8.42.0+2 ⇒ v8.42.0+4\u001b[39m\n",
      " \u001b[90m [36c8627f]\u001b[39m\u001b[93m ↑ Pango_jll v1.42.4+8 ⇒ v1.42.4+10\u001b[39m\n",
      " \u001b[90m [d96e819e]\u001b[39m\u001b[93m ↑ Parameters v0.12.1 ⇒ v0.12.2\u001b[39m\n",
      " \u001b[90m [69de0a69]\u001b[39m\u001b[93m ↑ Parsers v1.0.6 ⇒ v1.0.15\u001b[39m\n",
      " \u001b[90m [fa939f87]\u001b[39m\u001b[93m ↑ Pidfile v1.1.0 ⇒ v1.2.0\u001b[39m\n",
      " \u001b[90m [30392449]\u001b[39m\u001b[93m ↑ Pixman_jll v0.38.4+2 ⇒ v0.40.0+0\u001b[39m\n",
      " \u001b[90m [ccf2f8ad]\u001b[39m\u001b[93m ↑ PlotThemes v2.0.0 ⇒ v2.0.1\u001b[39m\n",
      " \u001b[90m [995b91a9]\u001b[39m\u001b[93m ↑ PlotUtils v1.0.5 ⇒ v1.0.10\u001b[39m\n",
      " \u001b[90m [85a6dd25]\u001b[39m\u001b[93m ↑ PositiveFactorizations v0.2.3 ⇒ v0.2.4\u001b[39m\n"
     ]
    },
    {
     "name": "stdout",
     "output_type": "stream",
     "text": [
      " \u001b[90m [1fd47b50]\u001b[39m\u001b[93m ↑ QuadGK v2.3.1 ⇒ v2.4.1\u001b[39m\n",
      " \u001b[90m [3cdcf5f2]\u001b[39m\u001b[93m ↑ RecipesBase v1.0.1 ⇒ v1.1.1\u001b[39m\n",
      " \u001b[90m [01d81517]\u001b[39m\u001b[93m ↑ RecipesPipeline v0.1.10 ⇒ v0.1.13\u001b[39m\n",
      " \u001b[90m [ae029012]\u001b[39m\u001b[93m ↑ Requires v1.0.1 ⇒ v1.1.2\u001b[39m\n",
      " \u001b[90m [f2b01f46]\u001b[39m\u001b[93m ↑ Roots v1.0.2 ⇒ v1.0.8\u001b[39m\n",
      " \u001b[90m [992d4aef]\u001b[39m\u001b[93m ↑ Showoff v0.3.1 ⇒ v0.3.2\u001b[39m\n",
      " \u001b[90m [b85f4697]\u001b[39m\u001b[93m ↑ SoftGlobalScope v1.0.10 ⇒ v1.1.0\u001b[39m\n",
      " \u001b[90m [90137ffa]\u001b[39m\u001b[93m ↑ StaticArrays v0.12.3 ⇒ v0.12.5\u001b[39m\n",
      " \u001b[90m [88034a9c]\u001b[39m\u001b[93m ↑ StringDistances v0.6.5 ⇒ v0.8.0\u001b[39m\n",
      " \u001b[90m [bd369af6]\u001b[39m\u001b[93m ↑ Tables v1.0.4 ⇒ v1.3.2\u001b[39m\n",
      " \u001b[90m [a759f4b9]\u001b[39m\u001b[92m + TimerOutputs v0.5.7\u001b[39m\n",
      " \u001b[90m [0796e94c]\u001b[39m\u001b[93m ↑ Tokenize v0.5.8 ⇒ v0.5.13\u001b[39m\n",
      " \u001b[90m [3a884ed6]\u001b[39m\u001b[93m ↑ UnPack v1.0.1 ⇒ v1.0.2\u001b[39m\n",
      " \u001b[90m [0f1e0344]\u001b[39m\u001b[93m ↑ WebIO v0.8.14 ⇒ v0.8.15\u001b[39m\n",
      " \u001b[90m [104b5d7c]\u001b[39m\u001b[93m ↑ WebSockets v1.5.2 ⇒ v1.5.9\u001b[39m\n",
      " \u001b[90m [efce3f68]\u001b[39m\u001b[93m ↑ WoodburyMatrices v0.5.2 ⇒ v0.5.3\u001b[39m\n",
      " \u001b[90m [02c8fc9c]\u001b[39m\u001b[93m ↑ XML2_jll v2.9.10+1 ⇒ v2.9.10+3\u001b[39m\n",
      " \u001b[90m [aed1982a]\u001b[39m\u001b[93m ↑ XSLT_jll v1.1.33+2 ⇒ v1.1.33+4\u001b[39m\n",
      " \u001b[90m [4f6342f7]\u001b[39m\u001b[93m ↑ Xorg_libX11_jll v1.6.9+2 ⇒ v1.6.9+4\u001b[39m\n",
      " \u001b[90m [0c0b7dd1]\u001b[39m\u001b[93m ↑ Xorg_libXau_jll v1.0.9+2 ⇒ v1.0.9+4\u001b[39m\n",
      " \u001b[90m [a3789734]\u001b[39m\u001b[93m ↑ Xorg_libXdmcp_jll v1.1.3+2 ⇒ v1.1.3+4\u001b[39m\n",
      " \u001b[90m [1082639a]\u001b[39m\u001b[93m ↑ Xorg_libXext_jll v1.3.4+2 ⇒ v1.3.4+4\u001b[39m\n",
      " \u001b[90m [ea2f1a96]\u001b[39m\u001b[93m ↑ Xorg_libXrender_jll v0.9.10+2 ⇒ v0.9.10+4\u001b[39m\n",
      " \u001b[90m [14d82f49]\u001b[39m\u001b[93m ↑ Xorg_libpthread_stubs_jll v0.1.0+1 ⇒ v0.1.0+3\u001b[39m\n",
      " \u001b[90m [c7cfdc94]\u001b[39m\u001b[93m ↑ Xorg_libxcb_jll v1.13.0+2 ⇒ v1.13.0+3\u001b[39m\n",
      " \u001b[90m [c5fb5394]\u001b[39m\u001b[93m ↑ Xorg_xtrans_jll v1.4.0+1 ⇒ v1.4.0+3\u001b[39m\n",
      " \u001b[90m [ddb6d928]\u001b[39m\u001b[93m ↑ YAML v0.4.0 ⇒ v0.4.6\u001b[39m\n",
      " \u001b[90m [8f1865be]\u001b[39m\u001b[93m ↑ ZeroMQ_jll v4.3.2+4 ⇒ v4.3.2+6\u001b[39m\n",
      " \u001b[90m [a5390f91]\u001b[39m\u001b[93m ↑ ZipFile v0.9.2 ⇒ v0.9.3\u001b[39m\n",
      " \u001b[90m [83775a58]\u001b[39m\u001b[93m ↑ Zlib_jll v1.2.11+14 ⇒ v1.2.11+18\u001b[39m\n",
      " \u001b[90m [0ac62f75]\u001b[39m\u001b[93m ↑ libass_jll v0.14.0+2 ⇒ v0.14.0+4\u001b[39m\n",
      " \u001b[90m [f638f0a6]\u001b[39m\u001b[93m ↑ libfdk_aac_jll v0.1.6+2 ⇒ v0.1.6+4\u001b[39m\n",
      " \u001b[90m [b53b4c65]\u001b[39m\u001b[93m ↑ libpng_jll v1.6.37+3 ⇒ v1.6.37+6\u001b[39m\n",
      " \u001b[90m [a9144af2]\u001b[39m\u001b[92m + libsodium_jll v1.0.18+1\u001b[39m\n",
      " \u001b[90m [f27f6e37]\u001b[39m\u001b[93m ↑ libvorbis_jll v1.3.6+4 ⇒ v1.3.6+6\u001b[39m\n",
      " \u001b[90m [1270edf5]\u001b[39m\u001b[93m ↑ x264_jll v2019.5.25+2 ⇒ v2020.7.14+2\u001b[39m\n",
      " \u001b[90m [dfaa095f]\u001b[39m\u001b[93m ↑ x265_jll v3.0.0+1 ⇒ v3.0.0+3\u001b[39m\n",
      "\u001b[32m\u001b[1m  Building\u001b[22m\u001b[39m WebIO → `C:\\Users\\user\\.julia\\packages\\WebIO\\Fy9h1\\deps\\build.log`\n",
      "\u001b[32m\u001b[1m  Building\u001b[22m\u001b[39m Conda → `C:\\Users\\user\\.julia\\packages\\Conda\\x5ml4\\deps\\build.log`\n",
      "\u001b[32m\u001b[1m  Building\u001b[22m\u001b[39m FFTW ─→ `C:\\Users\\user\\.julia\\packages\\FFTW\\G3lSO\\deps\\build.log`\n"
     ]
    }
   ],
   "source": [
    "using Pkg\n",
    "Pkg.add(\"TimerOutputs\")"
   ]
  },
  {
   "cell_type": "code",
   "execution_count": 16,
   "metadata": {},
   "outputs": [],
   "source": [
    "# 計算每個部分占用的資源\n",
    "using TimerOutputs\n",
    "const to = TimerOutput();"
   ]
  },
  {
   "cell_type": "code",
   "execution_count": 17,
   "metadata": {},
   "outputs": [
    {
     "data": {
      "text/plain": [
       "randmsq_timed (generic function with 1 method)"
      ]
     },
     "execution_count": 17,
     "metadata": {},
     "output_type": "execute_result"
    }
   ],
   "source": [
    "function randmsq_timed()\n",
    "    @timeit to \"randmsq\" begin\n",
    "        x = @timeit to \"rand\" rand(1000, 1000)\n",
    "        y = @timeit to \"mean\" mean(x.^2, dims = 1)\n",
    "        return y\n",
    "    end\n",
    "end"
   ]
  },
  {
   "cell_type": "code",
   "execution_count": 19,
   "metadata": {},
   "outputs": [
    {
     "name": "stdout",
     "output_type": "stream",
     "text": [
      "\u001b[0m\u001b[1m ──────────────────────────────────────────────────────────────────\u001b[22m\n",
      "\u001b[0m\u001b[1m                   \u001b[22m        Time                   Allocations      \n",
      "                   ──────────────────────   ───────────────────────\n",
      " Tot / % measured:       238s / 0.01%            156MiB / 19.5%    \n",
      "\n",
      " Section   ncalls     time   %tot     avg     alloc   %tot      avg\n",
      " ──────────────────────────────────────────────────────────────────\n",
      " randmsq        2   17.1ms   100%  8.54ms   30.5MiB  100%   15.3MiB\n",
      "   rand         2   12.1ms  70.7%  6.04ms   15.3MiB  50.0%  7.63MiB\n",
      "   mean         2   5.00ms  29.2%  2.50ms   15.3MiB  50.0%  7.64MiB\n",
      "\u001b[0m\u001b[1m ──────────────────────────────────────────────────────────────────\u001b[22m\n"
     ]
    }
   ],
   "source": [
    "randmsq_timed();\n",
    "print_timer(to)"
   ]
  },
  {
   "cell_type": "code",
   "execution_count": 5,
   "metadata": {},
   "outputs": [
    {
     "data": {
      "text/plain": [
       "BenchmarkTools.Trial: \n",
       "  memory estimate:  15.88 KiB\n",
       "  allocs estimate:  2\n",
       "  --------------\n",
       "  minimum time:     3.012 μs (0.00% GC)\n",
       "  median time:      5.650 μs (0.00% GC)\n",
       "  mean time:        6.513 μs (9.48% GC)\n",
       "  maximum time:     860.025 μs (99.53% GC)\n",
       "  --------------\n",
       "  samples:          10000\n",
       "  evals/sample:     8"
      ]
     },
     "execution_count": 5,
     "metadata": {},
     "output_type": "execute_result"
    }
   ],
   "source": [
    "# 用benchmark更準確地比較運行時間\n",
    "using BenchmarkTools\n",
    "@benchmark sqrt.(rand(1000))"
   ]
  },
  {
   "cell_type": "code",
   "execution_count": 7,
   "metadata": {},
   "outputs": [
    {
     "name": "stdout",
     "output_type": "stream",
     "text": [
      "  1.100 μs (1 allocation: 7.94 KiB)\n"
     ]
    },
    {
     "data": {
      "text/plain": [
       "0.5082862807920022"
      ]
     },
     "execution_count": 7,
     "metadata": {},
     "output_type": "execute_result"
    }
   ],
   "source": [
    "# @btime有更簡潔的輸出, 而且跟@time一樣會回傳運算值\n",
    "@btime mean(rand(1000))"
   ]
  },
  {
   "cell_type": "code",
   "execution_count": null,
   "metadata": {},
   "outputs": [],
   "source": []
  }
 ],
 "metadata": {
  "kernelspec": {
   "display_name": "Julia 1.3.1",
   "language": "julia",
   "name": "julia-1.3"
  },
  "language_info": {
   "file_extension": ".jl",
   "mimetype": "application/julia",
   "name": "julia",
   "version": "1.3.1"
  }
 },
 "nbformat": 4,
 "nbformat_minor": 2
}
